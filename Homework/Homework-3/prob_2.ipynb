{
 "cells": [
  {
   "cell_type": "code",
   "execution_count": 28,
   "metadata": {
    "collapsed": true
   },
   "outputs": [],
   "source": [
    "import numpy as np\n",
    "import matplotlib.pyplot as plt\n",
    "import math\n",
    "%matplotlib inline"
   ]
  },
  {
   "cell_type": "code",
   "execution_count": 53,
   "metadata": {
    "collapsed": false
   },
   "outputs": [],
   "source": [
    "# a = -1.0\n",
    "# b = 0.25\n",
    "# W = 2.0\n",
    "# R = 2.0\n",
    "# q_init = 0\n",
    "# gamma = R/b**2*(a + np.sqrt(a**2 + W*b**2/R))\n",
    "# gamma_1 = (-2*a - np.sqrt(4*a**2 + 4*W*b**2/R))/(-2*b**2/R)\n",
    "# print gamma\n",
    "\n",
    "# beta = (a*q_init + W - gamma*(b**2*q_init/R-a))/(gamma - q_init)\n",
    "# print beta\n",
    "\n",
    "# qdot = lambda q: 2*a*q + W - b**2*q**2/R\n",
    "\n",
    "def q(t,q_0, W):\n",
    "    a = -1.0\n",
    "    b = 0.25\n",
    "#     W = 2.0\n",
    "    R = 3.0\n",
    "    q_init = 0\n",
    "    gamma = R/b**2*(a + np.sqrt(a**2 + W*b**2/R))\n",
    "    gamma_1 = (-2*a - np.sqrt(4*a**2 + 4*W*b**2/R))/(-2*b**2/R)\n",
    "\n",
    "    beta = (a*q_init + W - gamma*(b**2*q_init/R-a))/(gamma - q_init)\n",
    "    return ((a*q_0 + W)*math.sinh(beta*t) + beta*q_0*math.cosh(beta*t))/((b**2*q_0/R - a)*math.sinh(beta*t)\n",
    "                                                                           +beta*math.cosh(beta*t))\n"
   ]
  },
  {
   "cell_type": "code",
   "execution_count": 59,
   "metadata": {
    "collapsed": false
   },
   "outputs": [
    {
     "data": {
      "image/png": "[encoded data removed]",
      "text/plain": [
       "<matplotlib.figure.Figure at 0x7f8c5b135390>"
      ]
     },
     "metadata": {},
     "output_type": "display_data"
    }
   ],
   "source": [
    "color = ['r','g','b']\n",
    "W_vals=np.array([0.1,1,10])*3.0\n",
    "q_vec = np.vectorize(q)\n",
    "t_grid = np.linspace(0,5,100)\n",
    "q_0 = 4.0\n",
    "R = 3.0\n",
    "for i in xrange(0,3):\n",
    "    q_grid = q_vec(t_grid, 4, W_vals[i])\n",
    "    plt.plot(t_grid, q_grid, color=color[i], label=\"W/R = \" + str(W_vals[i]/R))\n",
    "    \n",
    "# plt.plot(t_grid,q_grid)\n",
    "plt.xlabel('t')\n",
    "plt.ylabel('q')\n",
    "plt.legend(loc='best')\n",
    "plt.show()"
   ]
  },
  {
   "cell_type": "code",
   "execution_count": 49,
   "metadata": {
    "collapsed": false
   },
   "outputs": [
    {
     "data": {
      "image/png": "[encoded data removed]",
      "text/plain": [
       "<matplotlib.figure.Figure at 0x7f8c5b3ed090>"
      ]
     },
     "metadata": {},
     "output_type": "display_data"
    }
   ],
   "source": [
    "t_grid = np.linspace(0,3.5,100)\n",
    "q_vec = np.vectorize(q)\n",
    "q_grid = q_vec(t_grid,0)\n",
    "q_0_vals = [0.0,1.0,10.0]\n",
    "color = ['r','g','b']\n",
    "for i in xrange(0,3):\n",
    "    q_grid = q_vec(t_grid, q_0_vals[i])\n",
    "    plt.plot(t_grid, q_grid, color=color[i], label=\"q_0 = \" + str(q_0_vals[i]))\n",
    "    \n",
    "# plt.plot(t_grid,q_grid)\n",
    "plt.xlabel('t')\n",
    "plt.ylabel('q')\n",
    "plt.legend()\n",
    "plt.show()"
   ]
  },
  {
   "cell_type": "code",
   "execution_count": 35,
   "metadata": {
    "collapsed": false
   },
   "outputs": [
    {
     "name": "stdout",
     "output_type": "stream",
     "text": [
      "-5.89805981832e-16\n",
      "10.0\n"
     ]
    }
   ],
   "source": [
    "print qdot(gamma_1)\n",
    "print q(0)"
   ]
  },
  {
   "cell_type": "code",
   "execution_count": null,
   "metadata": {
    "collapsed": true
   },
   "outputs": [],
   "source": []
  }
 ],
 "metadata": {
  "kernelspec": {
   "display_name": "Python 2",
   "language": "python",
   "name": "python2"
  },
  "language_info": {
   "codemirror_mode": {
    "name": "ipython",
    "version": 2
   },
   "file_extension": ".py",
   "mimetype": "text/x-python",
   "name": "python",
   "nbconvert_exporter": "python",
   "pygments_lexer": "ipython2",
   "version": "2.7.6"
  }
 },
 "nbformat": 4,
 "nbformat_minor": 0
}
