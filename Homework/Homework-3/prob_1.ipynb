{
 "cells": [
  {
   "cell_type": "code",
   "execution_count": 280,
   "metadata": {
    "collapsed": false
   },
   "outputs": [
    {
     "name": "stdout",
     "output_type": "stream",
     "text": [
      "The autoreload extension is already loaded. To reload it, use:\n",
      "  %reload_ext autoreload\n"
     ]
    }
   ],
   "source": [
    "import numpy as np\n",
    "import matplotlib.pyplot as plt\n",
    "from simulator import *\n",
    "from controller import *\n",
    "from extendedkalmanfilter import *\n",
    "import scipy.misc\n",
    "%load_ext autoreload\n",
    "%autoreload 2\n",
    "%matplotlib inline"
   ]
  },
  {
   "cell_type": "code",
   "execution_count": 303,
   "metadata": {
    "collapsed": false
   },
   "outputs": [],
   "source": [
    "T = 4\n",
    "# t = 1\n",
    "# print x_desired(t,T)\n",
    "# print u_desired(t,T)\n",
    "x_des = lambda t: x_desired(t,T)\n",
    "u_des = lambda t: u_desired(t,T)\n",
    "\n",
    "sim = Simulator(dt, A, B ,h ,grad_h, W, R)\n",
    "controller = Controller(x_des, u_des, 3*np.identity(2))\n",
    "estimator = Estimator(A, B, W, R, dt, h, grad_h, useDummyEstimator=False)\n",
    "sim.setEstimator(estimator)\n",
    "sim.setController(controller)"
   ]
  },
  {
   "cell_type": "code",
   "execution_count": 282,
   "metadata": {
    "collapsed": false
   },
   "outputs": [
    {
     "data": {
      "text/plain": [
       "array([ 4.7, -0.3])"
      ]
     },
     "execution_count": 282,
     "metadata": {},
     "output_type": "execute_result"
    }
   ],
   "source": [
    "t = 0\n",
    "eps = np.array([0.1, 0.1])\n",
    "controller.computeControlInput(x_des(t) + eps, t)"
   ]
  },
  {
   "cell_type": "code",
   "execution_count": 283,
   "metadata": {
    "collapsed": false
   },
   "outputs": [
    {
     "name": "stdout",
     "output_type": "stream",
     "text": [
      "[0 0]\n",
      "[[ 1.  0.]\n",
      " [ 0.  1.]]\n",
      "True\n",
      "(array([ 0.5,  0. ]), array([[ 1.01,  0.  ],\n",
      "       [ 0.  ,  1.01]]))\n"
     ]
    }
   ],
   "source": [
    "estimator.initialize(x_0, Q_0)\n",
    "print estimator.x_current\n",
    "print estimator.Q_current\n",
    "print estimator.useDummyEstimator\n",
    "print estimator.update(u_des(t), 0)"
   ]
  },
  {
   "cell_type": "code",
   "execution_count": 309,
   "metadata": {
    "collapsed": false
   },
   "outputs": [
    {
     "data": {
      "image/png": "[encoded data removed]",
      "text/plain": [
       "<matplotlib.figure.Figure at 0x7f7fde6b7190>"
      ]
     },
     "metadata": {},
     "output_type": "display_data"
    },
    {
     "data": {
      "image/png": "[encoded data removed]",
      "text/plain": [
       "<matplotlib.figure.Figure at 0x7f7fdea50950>"
      ]
     },
     "metadata": {},
     "output_type": "display_data"
    }
   ],
   "source": [
    "sim.simulate(x_0, Q_0, T, addNoise=True)\n",
    "sim.plotSimResults(plot_x_est=True, plot_u=True)\n"
   ]
  },
  {
   "cell_type": "code",
   "execution_count": 301,
   "metadata": {
    "collapsed": false
   },
   "outputs": [
    {
     "name": "stdout",
     "output_type": "stream",
     "text": [
      "[ 10.           0.          14.14213562   0.78539816  10.           1.57079633]\n",
      "[[-1.         -0.        ]\n",
      " [-0.         -0.1       ]\n",
      " [-0.70710678 -0.70710678]\n",
      " [ 0.05       -0.05      ]\n",
      " [-0.         -1.        ]\n",
      " [ 0.1        -0.        ]]\n",
      "\n",
      "[[-1.          0.        ]\n",
      " [ 0.         -0.1       ]\n",
      " [-0.70710678 -0.70710678]\n",
      " [ 0.05       -0.05      ]\n",
      " [ 0.         -1.        ]\n",
      " [ 0.1         0.        ]]\n"
     ]
    }
   ],
   "source": [
    "# idx = 0\n",
    "# h_temp = lambda x: h(x)[idx]\n",
    "# numericalGradient =lambda x: scipy.misc.derivative(h_temp, x, dx=1e-4)\n",
    "x_0 = np.array([0,0])\n",
    "print h(x_0)\n",
    "print grad_h(x_0)\n",
    "print \"\"\n",
    "print numericalGradient(h,x_0, dx=1e-5)\n",
    "# print np.linalg.norm(np.array([10,10]))"
   ]
  },
  {
   "cell_type": "code",
   "execution_count": 286,
   "metadata": {
    "collapsed": false
   },
   "outputs": [],
   "source": [
    "# plt.scatter(sim.simResults['x_true'][:,0], sim.simResults['x_true'][:,1])"
   ]
  },
  {
   "cell_type": "code",
   "execution_count": 296,
   "metadata": {
    "collapsed": false
   },
   "outputs": [
    {
     "name": "stdout",
     "output_type": "stream",
     "text": [
      "[[ 3.  0.]\n",
      " [ 0.  3.]]\n"
     ]
    }
   ],
   "source": [
    "print K"
   ]
  },
  {
   "cell_type": "code",
   "execution_count": null,
   "metadata": {
    "collapsed": true
   },
   "outputs": [],
   "source": []
  }
 ],
 "metadata": {
  "kernelspec": {
   "display_name": "Python 2",
   "language": "python",
   "name": "python2"
  },
  "language_info": {
   "codemirror_mode": {
    "name": "ipython",
    "version": 2
   },
   "file_extension": ".py",
   "mimetype": "text/x-python",
   "name": "python",
   "nbconvert_exporter": "python",
   "pygments_lexer": "ipython2",
   "version": "2.7.6"
  }
 },
 "nbformat": 4,
 "nbformat_minor": 0
}
