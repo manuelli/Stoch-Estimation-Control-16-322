{
 "cells": [
  {
   "cell_type": "code",
   "execution_count": 35,
   "metadata": {
    "collapsed": false
   },
   "outputs": [],
   "source": [
    "import numpy as np\n",
    "from sympy import *\n",
    "from sympy.matrices import *\n",
    "from scipy.linalg import solve_lyapunov"
   ]
  },
  {
   "cell_type": "code",
   "execution_count": 38,
   "metadata": {
    "collapsed": false
   },
   "outputs": [
    {
     "name": "stdout",
     "output_type": "stream",
     "text": [
      "(array([-0.5+0.8660254j, -0.5-0.8660254j]), matrix([[ 0.70710678+0.j        ,  0.70710678-0.j        ],\n",
      "        [-0.35355339+0.61237244j, -0.35355339-0.61237244j]]))\n",
      "Q numeric is\n",
      "[[ 5.  -0.5]\n",
      " [-0.5  4.5]]\n",
      "Q symbolic is\n",
      "[[ 5.  -0.5]\n",
      " [-0.5  4.5]]\n"
     ]
    }
   ],
   "source": [
    "g = 0.5\n",
    "H = np.matrix([[1,0],[0,2]])\n",
    "A = np.matrix([[0,1],[-1,-2*g]])\n",
    "print np.linalg.eig(A)\n",
    "BWB = np.matrix([[-1,0],[0,-8]])\n",
    "Q_numeric = solve_lyapunov(A,BWB)\n",
    "Q_symbolic = np.matrix([[g + 9/(4.0*g),-1/2.0],[-1/2.0,9/(4.0*g)]])\n",
    "\n",
    "print \"Q numeric is\"\n",
    "print Q_numeric\n",
    "print \"Q symbolic is\"\n",
    "print Q_symbolic\n",
    "\n",
    "\n"
   ]
  },
  {
   "cell_type": "code",
   "execution_count": 34,
   "metadata": {
    "collapsed": false
   },
   "outputs": [
    {
     "name": "stdout",
     "output_type": "stream",
     "text": [
      "Matrix([[0, 1], [-1, -2*gamma]])\n",
      "Matrix([[a, b], [c, d]])\n",
      "Matrix([[b + c, -a - 2*b*gamma + d], [-a - 2*c*gamma + d, -b - c - 4*d*gamma]])\n",
      "Matrix([[0, 1, 1, 0], [-1, -2*gamma, 0, 1], [-1, 0, -2*gamma, 1], [0, -1, -1, -4*gamma]])\n",
      "Matrix([[-1], [0], [0], [-8]])\n",
      "Matrix([[gamma + 9/(4*gamma)], [-1/2], [-1/2], [9/(4*gamma)]])\n"
     ]
    }
   ],
   "source": [
    "gamma = Symbol('gamma')\n",
    "a, b, c, d = symbols('a b c d')\n",
    "A = Matrix([[0,1],[-1,-2*gamma]])\n",
    "Q = Matrix([[a,b],[c,d]])\n",
    "print A\n",
    "print Q\n",
    "T = A*Q + Q*A.transpose()\n",
    "print T\n",
    "C = Matrix([[0,1,1,0],[-1, -2*gamma, 0,1],[-1, 0, -2*gamma, 1],[0, -1, -1, -4*gamma]])\n",
    "print C\n",
    "BW = Matrix([[-1],[0],[0],[-8]])\n",
    "print BW\n",
    "SS = C.inv()*BW\n",
    "print SS"
   ]
  },
  {
   "cell_type": "code",
   "execution_count": null,
   "metadata": {
    "collapsed": false
   },
   "outputs": [],
   "source": []
  },
  {
   "cell_type": "code",
   "execution_count": null,
   "metadata": {
    "collapsed": true
   },
   "outputs": [],
   "source": []
  }
 ],
 "metadata": {
  "kernelspec": {
   "display_name": "Python 2",
   "language": "python",
   "name": "python2"
  },
  "language_info": {
   "codemirror_mode": {
    "name": "ipython",
    "version": 2
   },
   "file_extension": ".py",
   "mimetype": "text/x-python",
   "name": "python",
   "nbconvert_exporter": "python",
   "pygments_lexer": "ipython2",
   "version": "2.7.10"
  }
 },
 "nbformat": 4,
 "nbformat_minor": 0
}
