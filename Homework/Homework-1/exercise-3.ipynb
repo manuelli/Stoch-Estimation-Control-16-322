{
 "cells": [
  {
   "cell_type": "code",
   "execution_count": 2,
   "metadata": {
    "collapsed": true
   },
   "outputs": [],
   "source": [
    "import numpy as np\n",
    "import matplotlib.pyplot as plt\n",
    "%matplotlib inline  "
   ]
  },
  {
   "cell_type": "code",
   "execution_count": 18,
   "metadata": {
    "collapsed": false
   },
   "outputs": [
    {
     "name": "stdout",
     "output_type": "stream",
     "text": [
      "(array([ 3.61803399,  1.38196601]), array([[ 0.85065081, -0.52573111],\n",
      "       [ 0.52573111,  0.85065081]]))\n",
      "0.0307667655237\n",
      "0.393469340287\n",
      "0.675347532642\n"
     ]
    },
    {
     "data": {
      "image/png": "[encoded data removed]",
      "text/plain": [
       "<matplotlib.figure.Figure at 0x7fba305ec3d0>"
      ]
     },
     "metadata": {},
     "output_type": "display_data"
    }
   ],
   "source": [
    "S = np.array([[3,1],[1,2]])\n",
    "eig = np.linalg.eig(S)\n",
    "print eig\n",
    "lam1 = eig[0][0]\n",
    "lam2 = eig[0][1]\n",
    "v1 = eig[1][:,0]\n",
    "v2 = eig[1][:,1]\n",
    "\n",
    "def plotEllipse(c):\n",
    "    b = lambda x: np.sqrt(lam2*(c**2-x**2/lam1))\n",
    "    a_grid = np.linspace(-c*np.sqrt(lam1),c*np.sqrt(lam1),100)\n",
    "    \n",
    "    b_vec = np.vectorize(b)\n",
    "    b_pos = b_vec(a_grid)\n",
    "    b_neg = -1.0*b_pos\n",
    "    z_pos = np.outer(a_grid,v1) + np.outer(b_pos,v2)\n",
    "    z_neg = np.outer(a_grid,v1) + np.outer(b_neg,v2)\n",
    "    plt.plot(z_pos[:,0],z_pos[:,1], color='b')\n",
    "    plt.plot(z_neg[:,0],z_neg[:,1], color='b')\n",
    "    \n",
    "    \n",
    "c_vals = [0.25, 1.0, 1.5]\n",
    "for c in c_vals:\n",
    "    plotEllipse(c)\n",
    "    prob = 1-np.exp(-c**2/2)\n",
    "    print prob\n",
    "    \n",
    "plt.show()"
   ]
  },
  {
   "cell_type": "code",
   "execution_count": 15,
   "metadata": {
    "collapsed": false
   },
   "outputs": [
    {
     "name": "stdout",
     "output_type": "stream",
     "text": [
      "[[1 2]\n",
      " [2 4]\n",
      " [3 6]]\n"
     ]
    }
   ],
   "source": [
    "a = np.array([1,2,3])\n",
    "b = np.array([1,2])\n",
    "c = np.outer(a,b)\n",
    "print c"
   ]
  },
  {
   "cell_type": "code",
   "execution_count": null,
   "metadata": {
    "collapsed": true
   },
   "outputs": [],
   "source": []
  }
 ],
 "metadata": {
  "kernelspec": {
   "display_name": "Python 2",
   "language": "python",
   "name": "python2"
  },
  "language_info": {
   "codemirror_mode": {
    "name": "ipython",
    "version": 2
   },
   "file_extension": ".py",
   "mimetype": "text/x-python",
   "name": "python",
   "nbconvert_exporter": "python",
   "pygments_lexer": "ipython2",
   "version": "2.7.6"
  }
 },
 "nbformat": 4,
 "nbformat_minor": 0
}
